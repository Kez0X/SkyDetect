{
 "cells": [
  {
   "cell_type": "markdown",
   "metadata": {},
   "source": [
    "### Import bibliothèques"
   ]
  },
  {
   "cell_type": "code",
   "execution_count": 31,
   "metadata": {},
   "outputs": [
    {
     "name": "stdout",
     "output_type": "stream",
     "text": [
      "4.10.0\n"
     ]
    }
   ],
   "source": [
    "import cv2\n",
    "print(cv2.__version__)\n",
    "import numpy as np\n",
    "from matplotlib import pyplot as plt"
   ]
  },
  {
   "cell_type": "code",
   "execution_count": 32,
   "metadata": {},
   "outputs": [],
   "source": [
    "import os\n",
    " \n",
    "def lister_fichiers(repertoire):\n",
    "    return os.listdir(repertoire)\n",
    " \n",
    "liste_avions=lister_fichiers('IMAGES/Imagettes/avions')\n",
    "liste_drones=lister_fichiers('IMAGES/Imagettes/drones')\n",
    "liste_helicopter=lister_fichiers('IMAGES/Imagettes/hélicoptères')\n",
    "liste_missiles=lister_fichiers('IMAGES/Imagettes/missiles')\n",
    "liste_oiseaux=lister_fichiers('IMAGES/Imagettes/oiseaux')\n",
    "\n"
   ]
  },
  {
   "cell_type": "markdown",
   "metadata": {},
   "source": [
    " Fonction de comparaison :"
   ]
  },
  {
   "cell_type": "code",
   "execution_count": 33,
   "metadata": {},
   "outputs": [],
   "source": [
    "def comparaison (path1, path2):\n",
    "    img1 = cv2.imread(path1, cv2.IMREAD_COLOR)\n",
    "    img_grey1 = cv2.cvtColor(img1, cv2.COLOR_RGB2GRAY)\n",
    "    \n",
    "    img2 = cv2.imread(path2, cv2.IMREAD_COLOR)\n",
    "    img_grey2 = cv2.cvtColor(img2, cv2.COLOR_RGB2GRAY)\n",
    "\n",
    "    orb = cv2.ORB_create()\n",
    "    points1, descripteursImg1 = orb.detectAndCompute(img_grey1, None)\n",
    "    points2, descripteursImg2 = orb.detectAndCompute(img_grey2, None)\n",
    "    \n",
    "    algoBF = cv2.BFMatcher(cv2.NORM_HAMMING, crossCheck=False)\n",
    "    paires_corresp = algoBF.knnMatch(descripteursImg1, descripteursImg2, k=5)\n",
    "\n",
    "    Matches_tri = sorted(paires_corresp, key=lambda x:x[0].distance)\n",
    "    \n",
    "    matched = cv2.drawMatchesKnn(img_grey1,\n",
    "                                 points1,\n",
    "                                 img_grey2,\n",
    "                                 points2,\n",
    "                                 Matches_tri,\n",
    "                                 None,)\n",
    "    return len(Matches_tri)\n",
    "\n",
    "    \n",
    "    "
   ]
  },
  {
   "cell_type": "code",
   "execution_count": 34,
   "metadata": {},
   "outputs": [
    {
     "ename": "error",
     "evalue": "OpenCV(4.10.0) /io/opencv/modules/core/src/batch_distance.cpp:282: error: (-215:Assertion failed) (type == CV_8U && dtype == CV_32S) || dtype == CV_32F in function 'batchDistance'\n",
     "output_type": "error",
     "traceback": [
      "\u001b[0;31m---------------------------------------------------------------------------\u001b[0m",
      "\u001b[0;31merror\u001b[0m                                     Traceback (most recent call last)",
      "Cell \u001b[0;32mIn[34], line 6\u001b[0m\n\u001b[1;32m      4\u001b[0m \u001b[38;5;28;01mfor\u001b[39;00m i \u001b[38;5;129;01min\u001b[39;00m \u001b[38;5;28mrange\u001b[39m(\u001b[38;5;241m10\u001b[39m):\n\u001b[1;32m      5\u001b[0m     pathAvions \u001b[38;5;241m=\u001b[39m \u001b[38;5;124m'\u001b[39m\u001b[38;5;124mIMAGES/Imagettes/avions/\u001b[39m\u001b[38;5;124m'\u001b[39m \u001b[38;5;241m+\u001b[39m liste_avions[i]\n\u001b[0;32m----> 6\u001b[0m     nb\u001b[38;5;241m=\u001b[39m\u001b[43mcomparaison\u001b[49m\u001b[43m(\u001b[49m\u001b[43mpathUser\u001b[49m\u001b[43m,\u001b[49m\u001b[43m \u001b[49m\u001b[43mpathAvions\u001b[49m\u001b[43m)\u001b[49m\n\u001b[1;32m      7\u001b[0m     DicoComparaison[\u001b[38;5;124m\"\u001b[39m\u001b[38;5;124mAvions\u001b[39m\u001b[38;5;124m\"\u001b[39m]\u001b[38;5;241m.\u001b[39mappend(nb)\n\u001b[1;32m      8\u001b[0m     pathDrones \u001b[38;5;241m=\u001b[39m \u001b[38;5;124m'\u001b[39m\u001b[38;5;124mIMAGES/Imagettes/drones/\u001b[39m\u001b[38;5;124m'\u001b[39m \u001b[38;5;241m+\u001b[39m liste_drones[i]\n",
      "Cell \u001b[0;32mIn[33], line 13\u001b[0m, in \u001b[0;36mcomparaison\u001b[0;34m(path1, path2)\u001b[0m\n\u001b[1;32m     10\u001b[0m points2, descripteursImg2 \u001b[38;5;241m=\u001b[39m sift\u001b[38;5;241m.\u001b[39mdetectAndCompute(img_grey2, \u001b[38;5;28;01mNone\u001b[39;00m)\n\u001b[1;32m     12\u001b[0m algoBF \u001b[38;5;241m=\u001b[39m cv2\u001b[38;5;241m.\u001b[39mBFMatcher(cv2\u001b[38;5;241m.\u001b[39mNORM_HAMMING, crossCheck\u001b[38;5;241m=\u001b[39m\u001b[38;5;28;01mFalse\u001b[39;00m)\n\u001b[0;32m---> 13\u001b[0m paires_corresp \u001b[38;5;241m=\u001b[39m \u001b[43malgoBF\u001b[49m\u001b[38;5;241;43m.\u001b[39;49m\u001b[43mknnMatch\u001b[49m\u001b[43m(\u001b[49m\u001b[43mdescripteursImg1\u001b[49m\u001b[43m,\u001b[49m\u001b[43m \u001b[49m\u001b[43mdescripteursImg2\u001b[49m\u001b[43m,\u001b[49m\u001b[43m \u001b[49m\u001b[43mk\u001b[49m\u001b[38;5;241;43m=\u001b[39;49m\u001b[38;5;241;43m5\u001b[39;49m\u001b[43m)\u001b[49m\n\u001b[1;32m     15\u001b[0m Matches_tri \u001b[38;5;241m=\u001b[39m \u001b[38;5;28msorted\u001b[39m(paires_corresp, key\u001b[38;5;241m=\u001b[39m\u001b[38;5;28;01mlambda\u001b[39;00m x:x[\u001b[38;5;241m0\u001b[39m]\u001b[38;5;241m.\u001b[39mdistance)\n\u001b[1;32m     17\u001b[0m matched \u001b[38;5;241m=\u001b[39m cv2\u001b[38;5;241m.\u001b[39mdrawMatchesKnn(img_grey1,\n\u001b[1;32m     18\u001b[0m                              points1,\n\u001b[1;32m     19\u001b[0m                              img_grey2,\n\u001b[1;32m     20\u001b[0m                              points2,\n\u001b[1;32m     21\u001b[0m                              Matches_tri,\n\u001b[1;32m     22\u001b[0m                              \u001b[38;5;28;01mNone\u001b[39;00m,)\n",
      "\u001b[0;31merror\u001b[0m: OpenCV(4.10.0) /io/opencv/modules/core/src/batch_distance.cpp:282: error: (-215:Assertion failed) (type == CV_8U && dtype == CV_32S) || dtype == CV_32F in function 'batchDistance'\n"
     ]
    }
   ],
   "source": [
    "DicoComparaison = {\"Avions\" : [], \"Drones\" : [], \"Hélicoptères\" : [], \"Missiles\" : [], \"Oiseaux\" : []}\n",
    "\n",
    "pathUser = str(input(\"Rentrez le path de votre image : \"))\n",
    "for i in range(10):\n",
    "    pathAvions = 'IMAGES/Imagettes/avions/' + liste_avions[i]\n",
    "    nb=comparaison(pathUser, pathAvions)\n",
    "    DicoComparaison[\"Avions\"].append(nb)\n",
    "    pathDrones = 'IMAGES/Imagettes/drones/' + liste_drones[i]\n",
    "    nb=comparaison(pathUser, pathDrones)\n",
    "    DicoComparaison[\"Drones\"].append(nb)\n",
    "    pathHelico = 'IMAGES/Imagettes/hélicoptères/' + liste_helicopter[i]\n",
    "    nb=comparaison(pathUser, pathHelico)\n",
    "    DicoComparaison[\"Hélicoptères\"].append(nb)\n",
    "    pathMissiles = 'IMAGES/Imagettes/missiles/' + liste_missiles[i]\n",
    "    nb=comparaison(pathUser, pathMissiles)\n",
    "    DicoComparaison[\"Missiles\"].append(nb)\n",
    "    pathOiseaux = 'IMAGES/Imagettes/oiseaux/' + liste_oiseaux[i]\n",
    "    nb=comparaison(pathUser, pathOiseaux)\n",
    "    DicoComparaison[\"Oiseaux\"].append(nb)\n",
    "\n",
    "print(\"Avions : \", np.mean(DicoComparaison[\"Avions\"]),\"\\nOiseaux : \", np.mean(DicoComparaison[\"Oiseaux\"]), \"\\nDrones : \", np.mean(DicoComparaison[\"Drones\"]), \"\\nHelicoptère : \", np.mean(DicoComparaison[\"Hélicoptères\"]))\n"
   ]
  }
 ],
 "metadata": {
  "kernelspec": {
   "display_name": "Python 3",
   "language": "python",
   "name": "python3"
  },
  "language_info": {
   "codemirror_mode": {
    "name": "ipython",
    "version": 3
   },
   "file_extension": ".py",
   "mimetype": "text/x-python",
   "name": "python",
   "nbconvert_exporter": "python",
   "pygments_lexer": "ipython3",
   "version": "3.12.1"
  }
 },
 "nbformat": 4,
 "nbformat_minor": 2
}
