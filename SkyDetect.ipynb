{
 "cells": [
  {
   "cell_type": "markdown",
   "metadata": {},
   "source": [
    "### Import bibliothèques"
   ]
  },
  {
   "cell_type": "code",
   "execution_count": 1,
   "metadata": {},
   "outputs": [],
   "source": [
    "import cv2\n",
    "import numpy as np\n",
    "from matplotlib import pyplot as plt"
   ]
  },
  {
   "cell_type": "code",
   "execution_count": 2,
   "metadata": {},
   "outputs": [],
   "source": [
    "import os\n",
    " \n",
    "def lister_fichiers(repertoire):\n",
    "    return os.listdir(repertoire)\n",
    " \n",
    "liste_avions=lister_fichiers('IMAGES/Imagettes/avions')\n",
    "liste_drones=lister_fichiers('IMAGES/Imagettes/drones')\n",
    "liste_helicopter=lister_fichiers('IMAGES/Imagettes/hélicoptères')\n",
    "liste_missiles=lister_fichiers('IMAGES/Imagettes/missiles')\n",
    "liste_oiseaux=lister_fichiers('IMAGES/Imagettes/oiseaux')\n",
    "\n"
   ]
  },
  {
   "cell_type": "markdown",
   "metadata": {},
   "source": [
    " ### Fonction de comparaison ORB :"
   ]
  },
  {
   "cell_type": "code",
   "execution_count": 3,
   "metadata": {},
   "outputs": [],
   "source": [
    "def comparaisonORB (path1, path2):\n",
    "    img1 = cv2.imread(path1, cv2.IMREAD_GRAYSCALE)\n",
    "    \n",
    "    img2 = cv2.imread(path2, cv2.IMREAD_GRAYSCALE)\n",
    "\n",
    "    orb = cv2.ORB_create()\n",
    "    points1, descripteursImg1 = orb.detectAndCompute(img1, None)\n",
    "    points2, descripteursImg2 = orb.detectAndCompute(img2, None)\n",
    "    \n",
    "    algoBF = cv2.BFMatcher(cv2.NORM_HAMMING, crossCheck=False)\n",
    "    paires_corresp = algoBF.knnMatch(descripteursImg1, descripteursImg2, k=5)\n",
    "\n",
    "    Matches_tri = sorted(paires_corresp, key=lambda x:x[0].distance)\n",
    "\n",
    "    Matches_tri = Matches_tri[:10]\n",
    "    \n",
    "    sumDistances = 0\n",
    "\n",
    "    for group in Matches_tri:\n",
    "        for match in group :\n",
    "            sumDistances += match.distance\n",
    "\n",
    "    return sumDistances\n",
    "\n",
    "    \n",
    "    "
   ]
  },
  {
   "cell_type": "code",
   "execution_count": 4,
   "metadata": {},
   "outputs": [
    {
     "name": "stdout",
     "output_type": "stream",
     "text": [
      "Avions :  24504.0 \n",
      "Oiseaux :  24963.0 \n",
      "Drones :  24615.0 \n",
      "Helicoptère :  26876.0\n"
     ]
    }
   ],
   "source": [
    "DicoComparaison = {\"Avions\" : [], \"Drones\" : [], \"Hélicoptères\" : [], \"Missiles\" : [], \"Oiseaux\" : []}\n",
    "\n",
    "pathUser = str(input(\"Rentrez le path de votre image : \"))\n",
    "for i in range(10):\n",
    "    pathAvions = 'IMAGES/Imagettes/avions/' + liste_avions[i]\n",
    "    nb=comparaisonORB(pathUser, pathAvions)\n",
    "    DicoComparaison[\"Avions\"].append(nb)\n",
    "    pathDrones = 'IMAGES/Imagettes/drones/' + liste_drones[i]\n",
    "    nb=comparaisonORB(pathUser, pathDrones)\n",
    "    DicoComparaison[\"Drones\"].append(nb)\n",
    "    pathHelico = 'IMAGES/Imagettes/hélicoptères/' + liste_helicopter[i]\n",
    "    nb=comparaisonORB(pathUser, pathHelico)\n",
    "    DicoComparaison[\"Hélicoptères\"].append(nb)\n",
    "    pathMissiles = 'IMAGES/Imagettes/missiles/' + liste_missiles[i]\n",
    "    nb=comparaisonORB(pathUser, pathMissiles)\n",
    "    DicoComparaison[\"Missiles\"].append(nb)\n",
    "    pathOiseaux = 'IMAGES/Imagettes/oiseaux/' + liste_oiseaux[i]\n",
    "    nb=comparaisonORB(pathUser, pathOiseaux)\n",
    "    DicoComparaison[\"Oiseaux\"].append(nb)\n",
    "\n",
    "print(\"Avions : \", np.sum(DicoComparaison[\"Avions\"]),\"\\nOiseaux : \", np.sum(DicoComparaison[\"Oiseaux\"]), \"\\nDrones : \", np.sum(DicoComparaison[\"Drones\"]), \"\\nHelicoptère : \", np.sum(DicoComparaison[\"Hélicoptères\"]))\n"
   ]
  }
 ],
 "metadata": {
  "kernelspec": {
   "display_name": "Python 3",
   "language": "python",
   "name": "python3"
  },
  "language_info": {
   "codemirror_mode": {
    "name": "ipython",
    "version": 3
   },
   "file_extension": ".py",
   "mimetype": "text/x-python",
   "name": "python",
   "nbconvert_exporter": "python",
   "pygments_lexer": "ipython3",
   "version": "3.12.1"
  }
 },
 "nbformat": 4,
 "nbformat_minor": 2
}
