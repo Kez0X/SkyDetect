{
 "cells": [
  {
   "cell_type": "markdown",
   "metadata": {},
   "source": [
    "### Import bibliothèques"
   ]
  },
  {
   "cell_type": "code",
   "execution_count": 14,
   "metadata": {},
   "outputs": [],
   "source": [
    "import cv2\n",
    "import numpy as np\n",
    "from matplotlib import pyplot as plt"
   ]
  },
  {
   "cell_type": "code",
   "execution_count": 15,
   "metadata": {},
   "outputs": [],
   "source": [
    "import os\n",
    "\n",
    "\n",
    "def lister_fichiers(repertoire):\n",
    "    return os.listdir(repertoire)\n",
    "\n",
    "#contient les images dans lesquelles on souhaite faire la recherche\n",
    "liste_images=lister_fichiers(\"IMAGES/Images\")\n",
    "liste_images.sort()\n",
    "\n",
    "#imagettes contenant les caractéristiques à chercher dans les images\n",
    "liste_avions=lister_fichiers('IMAGES/Imagettes/avions')\n",
    "liste_drones=lister_fichiers('IMAGES/Imagettes/drones')\n",
    "liste_helicopter=lister_fichiers('IMAGES/Imagettes/hélicoptères')\n",
    "liste_missiles=lister_fichiers('IMAGES/Imagettes/missiles')\n",
    "liste_oiseaux=lister_fichiers('IMAGES/Imagettes/oiseaux')\n"
   ]
  },
  {
   "cell_type": "markdown",
   "metadata": {},
   "source": [
    " ### Fonction de comparaison ORB :"
   ]
  },
  {
   "cell_type": "code",
   "execution_count": 16,
   "metadata": {},
   "outputs": [],
   "source": [
    "def comparaisonORB (path1, path2):\n",
    "    img1 = cv2.imread(path1, cv2.IMREAD_GRAYSCALE)\n",
    "    \n",
    "    img2 = cv2.imread(path2, cv2.IMREAD_GRAYSCALE)\n",
    "\n",
    "    orb = cv2.ORB_create()\n",
    "    points1, descripteursImg1 = orb.detectAndCompute(img1, None)\n",
    "    points2, descripteursImg2 = orb.detectAndCompute(img2, None)\n",
    "    \n",
    "    algoBF = cv2.BFMatcher(cv2.NORM_HAMMING, crossCheck=False)\n",
    "    paires_corresp = algoBF.knnMatch(descripteursImg1, descripteursImg2, k=5)\n",
    "\n",
    "    Matches_tri = sorted(paires_corresp, key=lambda x:x[0].distance)\n",
    "\n",
    "    Matches_tri = Matches_tri[:10]\n",
    "    \n",
    "    sumDistances = 0\n",
    "\n",
    "    for group in Matches_tri:\n",
    "        for match in group :\n",
    "            sumDistances += match.distance\n",
    "\n",
    "    return sumDistances\n",
    "\n",
    "    \n",
    "    "
   ]
  },
  {
   "cell_type": "markdown",
   "metadata": {},
   "source": [
    " ### Pourcentage de réussite avec ORB"
   ]
  },
  {
   "cell_type": "code",
   "execution_count": null,
   "metadata": {},
   "outputs": [
    {
     "name": "stdout",
     "output_type": "stream",
     "text": [
      "L'algorithme ORB obtient  58  % de réussite en prenant en compte la distance comme critère.\n"
     ]
    }
   ],
   "source": [
    "nb_true=0\n",
    "nb_false=0\n",
    "\n",
    "\n",
    "for i in range(0,50):   # Parcours de toutes nos images a tester\n",
    "\n",
    "    DicoComparaison = {\"Avions\" : [], \"Drones\" : [], \"Hélicoptères\" : [], \"Missiles\" : [], \"Oiseaux\" : []} # initialisation des doctionnaires vides\n",
    "    pathUser = \"IMAGES/Images/\" + liste_images[i]\n",
    "\n",
    "    for i in range(10): # Comparaison avec les imagettes\n",
    "        pathAvions = 'IMAGES/Imagettes/avions/' + liste_avions[i]\n",
    "        nb=comparaisonORB(pathUser, pathAvions)\n",
    "        DicoComparaison[\"Avions\"].append(nb)\n",
    "        pathDrones = 'IMAGES/Imagettes/drones/' + liste_drones[i]\n",
    "        nb=comparaisonORB(pathUser, pathDrones)\n",
    "        DicoComparaison[\"Drones\"].append(nb)\n",
    "        pathHelico = 'IMAGES/Imagettes/hélicoptères/' + liste_helicopter[i]\n",
    "        nb=comparaisonORB(pathUser, pathHelico)\n",
    "        DicoComparaison[\"Hélicoptères\"].append(nb)\n",
    "        pathMissiles = 'IMAGES/Imagettes/missiles/' + liste_missiles[i]\n",
    "        nb=comparaisonORB(pathUser, pathMissiles)\n",
    "        DicoComparaison[\"Missiles\"].append(nb)\n",
    "        pathOiseaux = 'IMAGES/Imagettes/oiseaux/' + liste_oiseaux[i]\n",
    "        nb=comparaisonORB(pathUser, pathOiseaux)\n",
    "        DicoComparaison[\"Oiseaux\"].append(nb)\n",
    "\n",
    "    # Sommes des distances\n",
    "    sumAvions = np.sum(DicoComparaison[\"Avions\"])\n",
    "    sumOiseaux = np.sum(DicoComparaison[\"Oiseaux\"])\n",
    "    sumDrones = np.sum(DicoComparaison[\"Drones\"])\n",
    "    sumHelicoptere = np.sum(DicoComparaison[\"Hélicoptères\"])\n",
    "    sumMissiles = np.sum(DicoComparaison[\"Missiles\"])\n",
    "\n",
    "    sums = {\n",
    "        \"sumAvions\": sumAvions,\n",
    "        \"sumDrones\": sumDrones,\n",
    "        \"sumMissiles\": sumMissiles,\n",
    "        \"sumHelicoptere\": sumHelicoptere,\n",
    "        \"sumOiseaux\": sumOiseaux,\n",
    "    }\n",
    "\n",
    "    # Trouvez le nom de la variable avec la valeur minimale (la plus petite étant censé être la plus ressemblante)\n",
    "    minVar = min(sums, key=sums.get)\n",
    "    minSum = sums[minVar]\n",
    "    \n",
    "    #test de conformité : étant donné que les images sont triées par noms, les 9 premières sont des avions, etc...\n",
    "    if 0<=i<=9:\n",
    "        if minVar == \"sumAvions\":\n",
    "            nb_true+=1\n",
    "        else:\n",
    "            nb_false+=1\n",
    "\n",
    "    elif 10<=i<=19:\n",
    "        if minVar == \"sumDrones\":\n",
    "            nb_true+=1\n",
    "        else:\n",
    "            nb_false+=1\n",
    "\n",
    "    elif 20<=i<=29:\n",
    "        if minVar == \"sumHelicoptere\":\n",
    "            nb_true+=1\n",
    "        else:\n",
    "            nb_false+=1\n",
    "\n",
    "    elif 30<=i<=39:\n",
    "        if minVar == \"sumMissiles\":\n",
    "            nb_true+=1\n",
    "        else:\n",
    "            nb_false+=1\n",
    "\n",
    "    elif 40<=i<=49:\n",
    "        if minVar == \"sumOiseaux\":\n",
    "            nb_true+=1\n",
    "        else:\n",
    "            nb_false+=1\n",
    "\n",
    "print(\"L'algorithme ORB obtient\",round((nb_true/50)*100), \"% de réussite en prenant en compte la distance comme critère.\" )"
   ]
  }
 ],
 "metadata": {
  "kernelspec": {
   "display_name": "Python 3",
   "language": "python",
   "name": "python3"
  },
  "language_info": {
   "codemirror_mode": {
    "name": "ipython",
    "version": 3
   },
   "file_extension": ".py",
   "mimetype": "text/x-python",
   "name": "python",
   "nbconvert_exporter": "python",
   "pygments_lexer": "ipython3",
   "version": "3.12.1"
  }
 },
 "nbformat": 4,
 "nbformat_minor": 2
}
