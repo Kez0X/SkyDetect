{
 "cells": [
  {
   "cell_type": "markdown",
   "metadata": {},
   "source": [
    "### Importation des bibliothèques"
   ]
  },
  {
   "cell_type": "code",
   "execution_count": 51,
   "metadata": {},
   "outputs": [],
   "source": [
    "import cv2\n",
    "import numpy as np\n",
    "import os"
   ]
  },
  {
   "cell_type": "markdown",
   "metadata": {},
   "source": [
    "### Création des listes de fichiers"
   ]
  },
  {
   "cell_type": "code",
   "execution_count": 52,
   "metadata": {},
   "outputs": [],
   "source": [
    "def lister_fichiers(repertoire):\n",
    "    return os.listdir(repertoire)"
   ]
  },
  {
   "cell_type": "markdown",
   "metadata": {},
   "source": [
    "### Fonction de comparaison"
   ]
  },
  {
   "cell_type": "code",
   "execution_count": 53,
   "metadata": {},
   "outputs": [],
   "source": [
    "def comparaison(path1, path2, algo=\"ORB\"):\n",
    "    img1 = cv2.imread(path1, cv2.IMREAD_COLOR)\n",
    "    img_grey1 = cv2.cvtColor(img1, cv2.COLOR_BGR2GRAY)\n",
    "    \n",
    "    img2 = cv2.imread(path2, cv2.IMREAD_COLOR)\n",
    "    img_grey2 = cv2.cvtColor(img2, cv2.COLOR_BGR2GRAY)\n",
    "\n",
    "    if algo == \"ORB\":\n",
    "        feature_detector = cv2.ORB_create(nfeatures=500)\n",
    "    elif algo == \"SIFT\":\n",
    "        feature_detector = cv2.SIFT_create()\n",
    "    else:\n",
    "        raise ValueError(\"L'algorithme spécifié n'est pas pris en charge.\")\n",
    "    \n",
    "    points1, descripteursImg1 = feature_detector.detectAndCompute(img_grey1, None)\n",
    "    points2, descripteursImg2 = feature_detector.detectAndCompute(img_grey2, None)\n",
    "\n",
    "    if descripteursImg1 is None or descripteursImg2 is None:\n",
    "        return 0  # Aucune correspondance trouvée\n",
    "\n",
    "    bf = cv2.BFMatcher()\n",
    "    matches = bf.knnMatch(descripteursImg1, descripteursImg2, k=2)\n",
    "\n",
    "    # Test de ratio de Lowe\n",
    "    good_matches = []\n",
    "    for m, n in matches:\n",
    "        if m.distance < 0.75 * n.distance:\n",
    "            good_matches.append(m)\n",
    "\n",
    "    return len(good_matches)"
   ]
  },
  {
   "cell_type": "code",
   "execution_count": 54,
   "metadata": {},
   "outputs": [],
   "source": [
    "def tester_algorithmes(pathUser, categories):\n",
    "    resultats = {\"ORB\": {}, \"SIFT\": {}}\n",
    "    for algo in [\"ORB\", \"SIFT\"]:\n",
    "        DicoComparaison = {list: [] for list in categories.keys()}\n",
    "        for list, liste_images in categories.items():\n",
    "            for img in liste_images:\n",
    "                path = f'IMAGES/Imagettes/{list.lower()}/{img}'\n",
    "                score = comparaison(pathUser, path, algo=algo)\n",
    "                DicoComparaison[list].append(score)\n",
    "        moyennes = {list: np.mean(scores) for list, scores in DicoComparaison.items()}\n",
    "        resultats[algo] = moyennes\n",
    "    return resultats\n"
   ]
  },
  {
   "cell_type": "code",
   "execution_count": 55,
   "metadata": {},
   "outputs": [
    {
     "name": "stdout",
     "output_type": "stream",
     "text": [
      "\n",
      "Résultats par algorithme :\n",
      "\n",
      "ORB:\n",
      "  Avions: 2.4\n",
      "  Drones: 3.4\n",
      "  Hélicoptères: 4.3\n",
      "  Missiles: 3.3\n",
      "  Oiseaux: 2.6\n",
      "\n",
      "SIFT:\n",
      "  Avions: 18.5\n",
      "  Drones: 14.7\n",
      "  Hélicoptères: 14.9\n",
      "  Missiles: 15.2\n",
      "  Oiseaux: 20.1\n",
      "\n",
      "Meilleur algorithme : SIFT\n",
      "Catégorie prédite : Oiseaux\n"
     ]
    }
   ],
   "source": [
    "# On charge les images de référence\n",
    "categories = {\n",
    "    \"Avions\": lister_fichiers('IMAGES/Imagettes/avions'),\n",
    "    \"Drones\": lister_fichiers('IMAGES/Imagettes/drones'),\n",
    "    \"Hélicoptères\": lister_fichiers('IMAGES/Imagettes/hélicoptères'),\n",
    "    \"Missiles\": lister_fichiers('IMAGES/Imagettes/missiles'),\n",
    "    \"Oiseaux\": lister_fichiers('IMAGES/Imagettes/oiseaux')\n",
    "}\n",
    "\n",
    "# On demande l'image utilisateur\n",
    "pathUser = input(\"Rentrez le path de votre image (Exemple : IMAGES/Images/missile.jpg) : \")\n",
    "\n",
    "# On test ORB et SIFT\n",
    "resultats = tester_algorithmes(pathUser, categories)\n",
    "\n",
    "# On compare les performances\n",
    "meilleurs_scores = {algo: max(scores.values()) for algo, scores in resultats.items()}\n",
    "meilleur_algo = max(meilleurs_scores, key=meilleurs_scores.get)\n",
    "\n",
    "print(\"\\nRésultats par algorithme :\")\n",
    "for algo, scores in resultats.items():\n",
    "    print(f\"\\n{algo}:\")\n",
    "    for cat, moy in scores.items():\n",
    "        print(f\"  {cat}: {moy}\")\n",
    "\n",
    "print(f\"\\nMeilleur algorithme : {meilleur_algo}\")\n",
    "print(f\"Catégorie prédite : {max(resultats[meilleur_algo], key=resultats[meilleur_algo].get)}\")\n"
   ]
  }
 ],
 "metadata": {
  "kernelspec": {
   "display_name": "Python 3",
   "language": "python",
   "name": "python3"
  },
  "language_info": {
   "codemirror_mode": {
    "name": "ipython",
    "version": 3
   },
   "file_extension": ".py",
   "mimetype": "text/x-python",
   "name": "python",
   "nbconvert_exporter": "python",
   "pygments_lexer": "ipython3",
   "version": "3.12.1"
  }
 },
 "nbformat": 4,
 "nbformat_minor": 2
}
